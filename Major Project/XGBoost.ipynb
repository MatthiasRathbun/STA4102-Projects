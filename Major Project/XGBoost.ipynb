{
 "cells": [
  {
   "cell_type": "markdown",
   "id": "07d2165e-d701-4651-a654-8fd6cf153ad3",
   "metadata": {},
   "source": [
    "# XGBoost Classifier"
   ]
  },
  {
   "cell_type": "code",
   "execution_count": 1,
   "id": "a5cbc4ea-fd88-41de-bd4d-6e33d35418c1",
   "metadata": {},
   "outputs": [],
   "source": [
    "import pandas as pd\n",
    "import numpy as np\n",
    "from sklearn.preprocessing import PowerTransformer\n",
    "from sklearn.model_selection import train_test_split\n",
    "from sklearn.linear_model import LogisticRegressionCV\n",
    "from sklearn.preprocessing import StandardScaler\n",
    "from sklearn.metrics import classification_report, confusion_matrix\n",
    "from sklearn import metrics\n",
    "from sklearn.preprocessing import LabelEncoder\n",
    "import xgboost as xgb"
   ]
  },
  {
   "cell_type": "code",
   "execution_count": 2,
   "id": "3f16a764-aa93-491c-bafd-55e48945c645",
   "metadata": {},
   "outputs": [
    {
     "name": "stderr",
     "output_type": "stream",
     "text": [
      "C:\\Users\\matth\\anaconda3\\lib\\site-packages\\sklearn\\utils\\validation.py:63: DataConversionWarning: A column-vector y was passed when a 1d array was expected. Please change the shape of y to (n_samples, ), for example using ravel().\n",
      "  return f(*args, **kwargs)\n"
     ]
    }
   ],
   "source": [
    "df = pd.read_excel(\"Dry_Bean_Dataset.xlsx\")\n",
    "df = df.drop_duplicates()\n",
    "X = df.iloc[:,:16]\n",
    "y = df.iloc[:,16:]\n",
    "y = y.reset_index().drop(columns = \"index\")\n",
    "scaler = StandardScaler()\n",
    "X = pd.DataFrame(scaler.fit_transform(X), columns = X.columns)\n",
    "pt = PowerTransformer(method = \"yeo-johnson\")\n",
    "X = pd.DataFrame(pt.fit_transform(X), columns = X.columns)\n",
    "X_train, X_test, y_train, y_test = train_test_split(X, y, test_size = 0.20, random_state = 101)\n",
    "le = LabelEncoder()\n",
    "y_train = le.fit_transform(y_train)\n",
    "y_test = le.fit_transform(y_test)"
   ]
  },
  {
   "cell_type": "code",
   "execution_count": 3,
   "id": "81990ee0-fd17-4ff1-9216-b481301ceb80",
   "metadata": {},
   "outputs": [
    {
     "data": {
      "text/plain": [
       "XGBClassifier(base_score=0.5, booster='gbtree', callbacks=None,\n",
       "              colsample_bylevel=1, colsample_bynode=1, colsample_bytree=1,\n",
       "              early_stopping_rounds=None, enable_categorical=False,\n",
       "              eval_metric=None, feature_types=None, gamma=0, gpu_id=-1,\n",
       "              grow_policy='depthwise', importance_type=None,\n",
       "              interaction_constraints='', learning_rate=0.300000012,\n",
       "              max_bin=256, max_cat_threshold=64, max_cat_to_onehot=4,\n",
       "              max_delta_step=0, max_depth=6, max_leaves=0, min_child_weight=1,\n",
       "              missing=nan, monotone_constraints='()', n_estimators=100,\n",
       "              n_jobs=0, num_parallel_tree=1, objective='multi:softprob',\n",
       "              predictor='auto', ...)"
      ]
     },
     "execution_count": 3,
     "metadata": {},
     "output_type": "execute_result"
    }
   ],
   "source": [
    "XGB = xgb.XGBClassifier(objective=\"multi:softprob\", random_state=101)\n",
    "XGB.fit(X_train, y_train)"
   ]
  },
  {
   "cell_type": "code",
   "execution_count": 4,
   "id": "70558e3f-ef97-4c29-a774-5438ab9b883a",
   "metadata": {},
   "outputs": [],
   "source": [
    "y_pred = XGB.predict(X_test)"
   ]
  },
  {
   "cell_type": "code",
   "execution_count": 5,
   "id": "fddd261a-118e-40a9-9f3e-c5968da2c6b1",
   "metadata": {},
   "outputs": [
    {
     "name": "stdout",
     "output_type": "stream",
     "text": [
      "[[241   1   9   0   0   5   4]\n",
      " [  0 115   0   0   0   0   0]\n",
      " [ 11   0 323   0   0   1   4]\n",
      " [  0   0   0 661   3   6  43]\n",
      " [  1   0   6   3 331   0   7]\n",
      " [  3   0   0  13   0 385   8]\n",
      " [  1   0   2  53  13   6 450]]\n",
      "              precision    recall  f1-score   support\n",
      "\n",
      "       SEKER       0.94      0.93      0.93       260\n",
      "    BARBUNYA       0.99      1.00      1.00       115\n",
      "      BOMBAY       0.95      0.95      0.95       339\n",
      "        CALI       0.91      0.93      0.92       713\n",
      "       HOROZ       0.95      0.95      0.95       348\n",
      "        SIRA       0.96      0.94      0.95       409\n",
      "    DERMASON       0.87      0.86      0.86       525\n",
      "\n",
      "    accuracy                           0.93      2709\n",
      "   macro avg       0.94      0.94      0.94      2709\n",
      "weighted avg       0.93      0.93      0.93      2709\n",
      "\n"
     ]
    }
   ],
   "source": [
    "print(confusion_matrix(y_test, y_pred))\n",
    "print(classification_report(y_test, y_pred, target_names=y.Class.unique()))"
   ]
  },
  {
   "cell_type": "code",
   "execution_count": 6,
   "id": "b4680c9f-c9bd-4019-a0d5-a39b6cbe2122",
   "metadata": {},
   "outputs": [
    {
     "data": {
      "text/plain": [
       "0.9250645994832042"
      ]
     },
     "execution_count": 6,
     "metadata": {},
     "output_type": "execute_result"
    }
   ],
   "source": [
    "metrics.accuracy_score(y_test, y_pred)"
   ]
  }
 ],
 "metadata": {
  "kernelspec": {
   "display_name": "Python 3 (ipykernel)",
   "language": "python",
   "name": "python3"
  },
  "language_info": {
   "codemirror_mode": {
    "name": "ipython",
    "version": 3
   },
   "file_extension": ".py",
   "mimetype": "text/x-python",
   "name": "python",
   "nbconvert_exporter": "python",
   "pygments_lexer": "ipython3",
   "version": "3.9.7"
  }
 },
 "nbformat": 4,
 "nbformat_minor": 5
}
