{
 "cells": [
  {
   "cell_type": "markdown",
   "id": "054f7638-abb4-4b33-8765-59a6a6907c70",
   "metadata": {},
   "source": [
    "# Keras MLP"
   ]
  },
  {
   "cell_type": "code",
   "execution_count": 35,
   "id": "2a1368d2-170f-4a87-88fa-7901aa5c45ad",
   "metadata": {},
   "outputs": [],
   "source": [
    "import pandas as pd\n",
    "import numpy as np\n",
    "from sklearn import metrics\n",
    "from sklearn.preprocessing import StandardScaler\n",
    "from sklearn.preprocessing import PowerTransformer\n",
    "from sklearn.preprocessing import LabelEncoder\n",
    "from sklearn.model_selection import train_test_split\n",
    "from sklearn.metrics import classification_report, confusion_matrix\n",
    "import tensorflow as tf\n",
    "from tensorflow import keras\n",
    "from tensorflow.keras import layers\n",
    "from tensorflow.keras.models import Sequential\n",
    "from tensorflow.keras.optimizers import SGD"
   ]
  },
  {
   "cell_type": "code",
   "execution_count": 36,
   "id": "8c368827-d5ca-4284-a4bd-8a86cbe3afbd",
   "metadata": {},
   "outputs": [
    {
     "name": "stderr",
     "output_type": "stream",
     "text": [
      "C:\\Users\\matth\\anaconda3\\lib\\site-packages\\sklearn\\utils\\validation.py:63: DataConversionWarning: A column-vector y was passed when a 1d array was expected. Please change the shape of y to (n_samples, ), for example using ravel().\n",
      "  return f(*args, **kwargs)\n"
     ]
    }
   ],
   "source": [
    "df = pd.read_excel(\"Dry_Bean_Dataset.xlsx\")\n",
    "df = df.drop_duplicates()\n",
    "X = df.iloc[:,:16]\n",
    "y = df.iloc[:,16:]\n",
    "y = y.reset_index().drop(columns = \"index\")\n",
    "scaler = StandardScaler()\n",
    "X = pd.DataFrame(scaler.fit_transform(X), columns = X.columns)\n",
    "pt = PowerTransformer(method = \"yeo-johnson\")\n",
    "X = pd.DataFrame(pt.fit_transform(X), columns = X.columns)\n",
    "X_train, X_test, y_train, y_test = train_test_split(X, y, test_size = 0.20, random_state = 101)\n",
    "le = LabelEncoder()\n",
    "y_train = le.fit_transform(y_train)\n",
    "y_test = le.fit_transform(y_test)\n",
    "y_train = tf.keras.utils.to_categorical(y_train, num_classes=7)\n",
    "y_test = tf.keras.utils.to_categorical(y_test, num_classes=7)"
   ]
  },
  {
   "cell_type": "code",
   "execution_count": 55,
   "id": "e7bef4e4-46ec-4df9-be84-98e5dcecca4f",
   "metadata": {},
   "outputs": [
    {
     "name": "stdout",
     "output_type": "stream",
     "text": [
      "Model: \"sequential_16\"\n",
      "_________________________________________________________________\n",
      " Layer (type)                Output Shape              Param #   \n",
      "=================================================================\n",
      " dense_82 (Dense)            (None, 16)                272       \n",
      "                                                                 \n",
      " dense_83 (Dense)            (None, 32)                544       \n",
      "                                                                 \n",
      " dense_84 (Dense)            (None, 64)                2112      \n",
      "                                                                 \n",
      " dense_85 (Dense)            (None, 32)                2080      \n",
      "                                                                 \n",
      " dense_86 (Dense)            (None, 16)                528       \n",
      "                                                                 \n",
      " dense_87 (Dense)            (None, 7)                 119       \n",
      "                                                                 \n",
      "=================================================================\n",
      "Total params: 5,655\n",
      "Trainable params: 5,655\n",
      "Non-trainable params: 0\n",
      "_________________________________________________________________\n",
      "Epoch 1/100\n",
      "339/339 [==============================] - 1s 3ms/step - loss: 0.5353 - accuracy: 0.8454\n",
      "Epoch 2/100\n",
      "339/339 [==============================] - 1s 3ms/step - loss: 0.2563 - accuracy: 0.9166\n",
      "Epoch 3/100\n",
      "339/339 [==============================] - 1s 3ms/step - loss: 0.2258 - accuracy: 0.9229\n",
      "Epoch 4/100\n",
      "339/339 [==============================] - 1s 3ms/step - loss: 0.2186 - accuracy: 0.9209\n",
      "Epoch 5/100\n",
      "339/339 [==============================] - 1s 3ms/step - loss: 0.2117 - accuracy: 0.9245\n",
      "Epoch 6/100\n",
      "339/339 [==============================] - 1s 3ms/step - loss: 0.2074 - accuracy: 0.9243\n",
      "Epoch 7/100\n",
      "339/339 [==============================] - 1s 3ms/step - loss: 0.2000 - accuracy: 0.9290\n",
      "Epoch 8/100\n",
      "339/339 [==============================] - 1s 3ms/step - loss: 0.1989 - accuracy: 0.9272\n",
      "Epoch 9/100\n",
      "339/339 [==============================] - 1s 3ms/step - loss: 0.1974 - accuracy: 0.9283\n",
      "Epoch 10/100\n",
      "339/339 [==============================] - 1s 3ms/step - loss: 0.1948 - accuracy: 0.9297\n",
      "Epoch 11/100\n",
      "339/339 [==============================] - 1s 3ms/step - loss: 0.1930 - accuracy: 0.9311\n",
      "Epoch 12/100\n",
      "339/339 [==============================] - 1s 3ms/step - loss: 0.1909 - accuracy: 0.9263\n",
      "Epoch 13/100\n",
      "339/339 [==============================] - 1s 3ms/step - loss: 0.1883 - accuracy: 0.9311\n",
      "Epoch 14/100\n",
      "339/339 [==============================] - 1s 3ms/step - loss: 0.1894 - accuracy: 0.9296\n",
      "Epoch 15/100\n",
      "339/339 [==============================] - 1s 3ms/step - loss: 0.1877 - accuracy: 0.9301\n",
      "Epoch 16/100\n",
      "339/339 [==============================] - 1s 3ms/step - loss: 0.1857 - accuracy: 0.9312\n",
      "Epoch 17/100\n",
      "339/339 [==============================] - 1s 3ms/step - loss: 0.1852 - accuracy: 0.9315\n",
      "Epoch 18/100\n",
      "339/339 [==============================] - 1s 3ms/step - loss: 0.1839 - accuracy: 0.9315\n",
      "Epoch 19/100\n",
      "339/339 [==============================] - 1s 3ms/step - loss: 0.1816 - accuracy: 0.9327\n",
      "Epoch 20/100\n",
      "339/339 [==============================] - 1s 3ms/step - loss: 0.1823 - accuracy: 0.9301\n",
      "Epoch 21/100\n",
      "339/339 [==============================] - 1s 3ms/step - loss: 0.1813 - accuracy: 0.9323\n",
      "Epoch 22/100\n",
      "339/339 [==============================] - 1s 3ms/step - loss: 0.1804 - accuracy: 0.9321\n",
      "Epoch 23/100\n",
      "339/339 [==============================] - 1s 3ms/step - loss: 0.1803 - accuracy: 0.9331\n",
      "Epoch 24/100\n",
      "339/339 [==============================] - 1s 3ms/step - loss: 0.1805 - accuracy: 0.9334\n",
      "Epoch 25/100\n",
      "339/339 [==============================] - 1s 3ms/step - loss: 0.1787 - accuracy: 0.9349\n",
      "Epoch 26/100\n",
      "339/339 [==============================] - 1s 3ms/step - loss: 0.1741 - accuracy: 0.9344\n",
      "Epoch 27/100\n",
      "339/339 [==============================] - 1s 3ms/step - loss: 0.1740 - accuracy: 0.9343\n",
      "Epoch 28/100\n",
      "339/339 [==============================] - 1s 3ms/step - loss: 0.1760 - accuracy: 0.9340\n",
      "Epoch 29/100\n",
      "339/339 [==============================] - 1s 4ms/step - loss: 0.1733 - accuracy: 0.9355\n",
      "Epoch 30/100\n",
      "339/339 [==============================] - 1s 3ms/step - loss: 0.1738 - accuracy: 0.9335\n",
      "Epoch 31/100\n",
      "339/339 [==============================] - 1s 3ms/step - loss: 0.1715 - accuracy: 0.9375\n",
      "Epoch 32/100\n",
      "339/339 [==============================] - 1s 3ms/step - loss: 0.1724 - accuracy: 0.9369\n",
      "Epoch 33/100\n",
      "339/339 [==============================] - 1s 3ms/step - loss: 0.1710 - accuracy: 0.9370\n",
      "Epoch 34/100\n",
      "339/339 [==============================] - 1s 3ms/step - loss: 0.1702 - accuracy: 0.9368\n",
      "Epoch 35/100\n",
      "339/339 [==============================] - 1s 3ms/step - loss: 0.1683 - accuracy: 0.9364\n",
      "Epoch 36/100\n",
      "339/339 [==============================] - 1s 3ms/step - loss: 0.1713 - accuracy: 0.9348\n",
      "Epoch 37/100\n",
      "339/339 [==============================] - 1s 3ms/step - loss: 0.1680 - accuracy: 0.9359\n",
      "Epoch 38/100\n",
      "339/339 [==============================] - 1s 3ms/step - loss: 0.1650 - accuracy: 0.9363\n",
      "Epoch 39/100\n",
      "339/339 [==============================] - 1s 3ms/step - loss: 0.1647 - accuracy: 0.9377\n",
      "Epoch 40/100\n",
      "339/339 [==============================] - 1s 3ms/step - loss: 0.1660 - accuracy: 0.9375\n",
      "Epoch 41/100\n",
      "339/339 [==============================] - 1s 3ms/step - loss: 0.1635 - accuracy: 0.9375\n",
      "Epoch 42/100\n",
      "339/339 [==============================] - 1s 3ms/step - loss: 0.1633 - accuracy: 0.9379\n",
      "Epoch 43/100\n",
      "339/339 [==============================] - 1s 3ms/step - loss: 0.1621 - accuracy: 0.9372\n",
      "Epoch 44/100\n",
      "339/339 [==============================] - 1s 3ms/step - loss: 0.1615 - accuracy: 0.9383\n",
      "Epoch 45/100\n",
      "339/339 [==============================] - 1s 3ms/step - loss: 0.1609 - accuracy: 0.9382\n",
      "Epoch 46/100\n",
      "339/339 [==============================] - 1s 3ms/step - loss: 0.1595 - accuracy: 0.9382\n",
      "Epoch 47/100\n",
      "339/339 [==============================] - 1s 3ms/step - loss: 0.1603 - accuracy: 0.9388\n",
      "Epoch 48/100\n",
      "339/339 [==============================] - 1s 3ms/step - loss: 0.1594 - accuracy: 0.9407\n",
      "Epoch 49/100\n",
      "339/339 [==============================] - 1s 3ms/step - loss: 0.1597 - accuracy: 0.9396\n",
      "Epoch 49: early stopping\n"
     ]
    }
   ],
   "source": [
    "model = tf.keras.Sequential()\n",
    "model.add(layers.Dense(16, input_dim = X_train.shape[1], activation = \"relu\")) # input layer requires input_dim param\n",
    "model.add(layers.Dense(32, activation = \"tanh\"))\n",
    "model.add(layers.Dense(64, activation = \"tanh\"))\n",
    "model.add(layers.Dense(32, activation = \"tanh\"))\n",
    "model.add(layers.Dense(16, activation = \"tanh\"))\n",
    "model.add(layers.Dense(7, activation='softmax'))\n",
    "model.summary()\n",
    "model.compile(loss=\"kullback_leibler_divergence\", optimizer= \"adam\", metrics=['accuracy'])\n",
    "es = tf.keras.callbacks.EarlyStopping(monitor='loss', min_delta=0.00005, patience=3, verbose=1, mode='auto')\n",
    "with tf.device('/cpu:0'):\n",
    "    model.fit(X_train, y_train, epochs = 100, shuffle = True, batch_size=32, verbose=1, callbacks=[es])\n",
    "    score = model.evaluate(X_test, y_test, verbose=0)"
   ]
  },
  {
   "cell_type": "code",
   "execution_count": 56,
   "id": "ad24660b-1d24-4b75-9247-934ea0748fd6",
   "metadata": {},
   "outputs": [
    {
     "name": "stdout",
     "output_type": "stream",
     "text": [
      "85/85 [==============================] - 0s 2ms/step\n",
      "[[246   0   8   0   0   2   4]\n",
      " [  0 115   0   0   0   0   0]\n",
      " [  9   1 324   0   1   1   3]\n",
      " [  0   0   0 649   0   8  56]\n",
      " [  0   0   5   3 332   0   8]\n",
      " [  1   0   0  11   0 388   9]\n",
      " [  1   0   3  30   5   7 479]]\n",
      "              precision    recall  f1-score   support\n",
      "\n",
      "       SEKER       0.96      0.95      0.95       260\n",
      "    BARBUNYA       0.99      1.00      1.00       115\n",
      "      BOMBAY       0.95      0.96      0.95       339\n",
      "        CALI       0.94      0.91      0.92       713\n",
      "       HOROZ       0.98      0.95      0.97       348\n",
      "        SIRA       0.96      0.95      0.95       409\n",
      "    DERMASON       0.86      0.91      0.88       525\n",
      "\n",
      "    accuracy                           0.94      2709\n",
      "   macro avg       0.95      0.95      0.95      2709\n",
      "weighted avg       0.94      0.94      0.94      2709\n",
      "\n"
     ]
    }
   ],
   "source": [
    "predictions = model.predict(X_test)\n",
    "y_pred=np.argmax(predictions, axis=1)\n",
    "tests=np.argmax(y_test, axis=1)\n",
    "print(confusion_matrix(tests, y_pred))\n",
    "print(classification_report(tests,y_pred,target_names=y.Class.unique()))"
   ]
  },
  {
   "cell_type": "code",
   "execution_count": 57,
   "id": "846c27dd-7441-4b84-b7cb-281f031f8721",
   "metadata": {},
   "outputs": [
    {
     "data": {
      "text/plain": [
       "0.935031376891842"
      ]
     },
     "execution_count": 57,
     "metadata": {},
     "output_type": "execute_result"
    }
   ],
   "source": [
    "metrics.accuracy_score(tests, y_pred)"
   ]
  }
 ],
 "metadata": {
  "kernelspec": {
   "display_name": "Python 3 (ipykernel)",
   "language": "python",
   "name": "python3"
  },
  "language_info": {
   "codemirror_mode": {
    "name": "ipython",
    "version": 3
   },
   "file_extension": ".py",
   "mimetype": "text/x-python",
   "name": "python",
   "nbconvert_exporter": "python",
   "pygments_lexer": "ipython3",
   "version": "3.9.7"
  }
 },
 "nbformat": 4,
 "nbformat_minor": 5
}
