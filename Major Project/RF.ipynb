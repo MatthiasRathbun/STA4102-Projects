{
 "cells": [
  {
   "cell_type": "markdown",
   "id": "2fcc79f4-74a6-45f6-a06b-5e05e4704779",
   "metadata": {},
   "source": [
    "# Random Forest"
   ]
  },
  {
   "cell_type": "code",
   "execution_count": 1,
   "id": "1a4304ed-6b0c-4c4e-888c-3907b122fa13",
   "metadata": {},
   "outputs": [],
   "source": [
    "from hyperopt import hp, fmin, tpe, rand, STATUS_OK, Trials\n",
    "import pandas as pd\n",
    "import numpy as np\n",
    "from time import time\n",
    "from sklearn import metrics\n",
    "from sklearn.ensemble import RandomForestClassifier\n",
    "from sklearn.preprocessing import StandardScaler\n",
    "from sklearn.preprocessing import PowerTransformer\n",
    "from sklearn.model_selection import train_test_split\n",
    "from sklearn.model_selection import KFold, StratifiedKFold\n",
    "from sklearn.model_selection import cross_val_score\n",
    "from sklearn.metrics import classification_report, confusion_matrix\n"
   ]
  },
  {
   "cell_type": "code",
   "execution_count": 2,
   "id": "a7a11069-a1eb-4ebf-bca7-4009bad64d8b",
   "metadata": {},
   "outputs": [],
   "source": [
    "df = pd.read_excel(\"Dry_Bean_Dataset.xlsx\")\n",
    "df = df.drop_duplicates()\n",
    "X = df.iloc[:,:16]\n",
    "y = df.iloc[:,16:]\n",
    "y = y.reset_index().drop(columns = \"index\")\n",
    "scaler = StandardScaler()\n",
    "X = pd.DataFrame(scaler.fit_transform(X), columns = X.columns)\n",
    "pt = PowerTransformer(method = \"yeo-johnson\")\n",
    "X = pd.DataFrame(pt.fit_transform(X), columns = X.columns)\n",
    "X_train, X_test, y_train, y_test = train_test_split(X, y, test_size = 0.20, random_state = 101)"
   ]
  },
  {
   "cell_type": "code",
   "execution_count": 3,
   "id": "e96b1a5b-fab1-47e0-9b9d-785858a7881b",
   "metadata": {},
   "outputs": [],
   "source": [
    "best_score=1.0\n",
    "def objective(space):\n",
    "    \n",
    "    global best_score\n",
    "    model = RandomForestClassifier(**space, n_jobs = -1)   \n",
    "    kfold = StratifiedKFold(n_splits=5, random_state=101, shuffle=True)\n",
    "    score = 1-cross_val_score(model, X_train, np.ravel(y_train), cv=kfold, scoring=\"accuracy\", verbose=False).mean() \n",
    "    \n",
    "    if (score < best_score):\n",
    "        best_score=score\n",
    "    \n",
    "    return score "
   ]
  },
  {
   "cell_type": "code",
   "execution_count": 4,
   "id": "8f3cbd90-886a-4b77-a79b-bf0a9766da45",
   "metadata": {},
   "outputs": [],
   "source": [
    "space = {\n",
    "        \"max_depth\": hp.choice(\"max_depth\", np.arange(2,101,1)),\n",
    "    \"min_samples_leaf\": hp.choice(\"min_samples_leaf\", np.arange(1,201,1)),\n",
    "    \"n_estimators\": hp.choice(\"n_estimators\", np.arange(10,201,1))\n",
    "      }"
   ]
  },
  {
   "cell_type": "code",
   "execution_count": 5,
   "id": "bb275f20-f55c-4567-ab8e-85d6955f2e8a",
   "metadata": {},
   "outputs": [
    {
     "name": "stdout",
     "output_type": "stream",
     "text": [
      "100%|███████████████████████████████████████████| 1000/1000 [15:48<00:00,  1.05trial/s, best loss: 0.07651884794199582]\n"
     ]
    }
   ],
   "source": [
    "n_iter_hopt = 1000\n",
    "trials = Trials() # Initialize an empty trials database for further saving/loading ran iteractions\n",
    "\n",
    "start = time()\n",
    "\n",
    "best = fmin(objective, \n",
    "            space = space, \n",
    "            algo = tpe.suggest, \n",
    "            max_evals = n_iter_hopt,\n",
    "            trials = trials,\n",
    "            rstate = np.random.default_rng(101))\n",
    "\n",
    "elapsed_time_hopt = time() - start"
   ]
  },
  {
   "cell_type": "code",
   "execution_count": 6,
   "id": "c5d34ee2-6670-4f78-a1f0-e6193aaf572d",
   "metadata": {},
   "outputs": [
    {
     "name": "stdout",
     "output_type": "stream",
     "text": [
      "\n",
      "Hyperopt search took 948.17 seconds for 1000 candidates. Accuracy reached: 92.348\n",
      "Optimal parameters found: {'max_depth': 97, 'min_samples_leaf': 2, 'n_estimators': 143}\n"
     ]
    }
   ],
   "source": [
    "print(\"\\nHyperopt search took %.2f seconds for %d candidates. Accuracy reached: %.3f\\nOptimal parameters found: %s\" % (elapsed_time_hopt, n_iter_hopt, ((1-best_score)*100), best))"
   ]
  },
  {
   "cell_type": "code",
   "execution_count": 13,
   "id": "3bf835dd-c301-4a0c-962f-16262f4d4e21",
   "metadata": {},
   "outputs": [
    {
     "name": "stdout",
     "output_type": "stream",
     "text": [
      "[[241   1  12   0   0   2   4]\n",
      " [  0 115   0   0   0   0   0]\n",
      " [ 10   0 323   0   1   1   4]\n",
      " [  0   0   0 669   0   8  36]\n",
      " [  2   0   3   3 331   0   9]\n",
      " [  0   0   0  11   0 387  11]\n",
      " [  3   0   3  49   7   6 457]]\n",
      "              precision    recall  f1-score   support\n",
      "\n",
      "       SEKER       0.94      0.93      0.93       260\n",
      "    BARBUNYA       0.99      1.00      1.00       115\n",
      "      BOMBAY       0.95      0.95      0.95       339\n",
      "        CALI       0.91      0.94      0.93       713\n",
      "       HOROZ       0.98      0.95      0.96       348\n",
      "        SIRA       0.96      0.95      0.95       409\n",
      "    DERMASON       0.88      0.87      0.87       525\n",
      "\n",
      "    accuracy                           0.93      2709\n",
      "   macro avg       0.94      0.94      0.94      2709\n",
      "weighted avg       0.93      0.93      0.93      2709\n",
      "\n"
     ]
    }
   ],
   "source": [
    "rf = RandomForestClassifier(max_depth = 99, min_samples_leaf = 3, n_estimators = 153)\n",
    "rf.fit(X_train, np.ravel(y_train))\n",
    "y_pred = rf.predict(X_test)\n",
    "print(confusion_matrix(y_test, y_pred))\n",
    "print(classification_report(y_test, y_pred, target_names=y.Class.unique()))"
   ]
  },
  {
   "cell_type": "code",
   "execution_count": 14,
   "id": "45cf5f84-34b0-40f9-afc6-ee19ffea9b98",
   "metadata": {},
   "outputs": [
    {
     "data": {
      "text/plain": [
       "0.9313399778516057"
      ]
     },
     "execution_count": 14,
     "metadata": {},
     "output_type": "execute_result"
    }
   ],
   "source": [
    "metrics.accuracy_score(y_test, y_pred)"
   ]
  }
 ],
 "metadata": {
  "kernelspec": {
   "display_name": "Python 3 (ipykernel)",
   "language": "python",
   "name": "python3"
  },
  "language_info": {
   "codemirror_mode": {
    "name": "ipython",
    "version": 3
   },
   "file_extension": ".py",
   "mimetype": "text/x-python",
   "name": "python",
   "nbconvert_exporter": "python",
   "pygments_lexer": "ipython3",
   "version": "3.9.7"
  }
 },
 "nbformat": 4,
 "nbformat_minor": 5
}
