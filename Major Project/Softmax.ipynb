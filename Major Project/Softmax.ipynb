{
 "cells": [
  {
   "cell_type": "markdown",
   "id": "214b4571-e3ff-4a8e-aac0-c9e4b3cfdbd7",
   "metadata": {},
   "source": [
    "# Softmax Regression"
   ]
  },
  {
   "cell_type": "code",
   "execution_count": 1,
   "id": "08b605a2-658c-4705-b54d-a10834e464e1",
   "metadata": {},
   "outputs": [],
   "source": [
    "import pandas as pd\n",
    "import numpy as np\n",
    "from sklearn import metrics\n",
    "from sklearn.preprocessing import StandardScaler\n",
    "from sklearn.preprocessing import PowerTransformer\n",
    "from sklearn.model_selection import train_test_split\n",
    "from sklearn.linear_model import LogisticRegressionCV\n",
    "from sklearn.metrics import classification_report, confusion_matrix"
   ]
  },
  {
   "cell_type": "code",
   "execution_count": 2,
   "id": "ab6c87c2-1e1e-49fd-ad88-6367db0c13ac",
   "metadata": {},
   "outputs": [],
   "source": [
    "df = pd.read_excel(\"Dry_Bean_Dataset.xlsx\")\n",
    "df = df.drop_duplicates()\n",
    "X = df.iloc[:,:16]\n",
    "y = df.iloc[:,16:]\n",
    "y = y.reset_index().drop(columns = \"index\")\n",
    "scaler = StandardScaler()\n",
    "X = pd.DataFrame(scaler.fit_transform(X), columns = X.columns)\n",
    "pt = PowerTransformer(method = \"yeo-johnson\")\n",
    "X = pd.DataFrame(pt.fit_transform(X), columns = X.columns)\n",
    "X_train, X_test, y_train, y_test = train_test_split(X, y, test_size = 0.20, random_state = 101)"
   ]
  },
  {
   "cell_type": "code",
   "execution_count": 5,
   "id": "6d3a3c6f-0537-41b5-bce6-3531fd557102",
   "metadata": {},
   "outputs": [],
   "source": [
    "Logit = LogisticRegressionCV(cv=10, scoring='accuracy', n_jobs=-1, multi_class = \"multinomial\", max_iter = 100, solver = \"newton-cg\")\n",
    "Logit.fit(X_train, np.ravel(y_train))\n",
    "y_pred = Logit.predict(X_test)"
   ]
  },
  {
   "cell_type": "code",
   "execution_count": 6,
   "id": "b4dd7a72-e371-42ae-9c79-4bf3cd129a93",
   "metadata": {},
   "outputs": [
    {
     "name": "stdout",
     "output_type": "stream",
     "text": [
      "[[244   1   9   0   0   1   5]\n",
      " [  0 115   0   0   0   0   0]\n",
      " [ 14   0 319   0   0   2   4]\n",
      " [  0   0   0 662   0   7  44]\n",
      " [  0   0   6   3 333   0   6]\n",
      " [  2   0   0   9   0 387  11]\n",
      " [  0   0   4  47  11   6 457]]\n",
      "              precision    recall  f1-score   support\n",
      "\n",
      "       SEKER       0.94      0.94      0.94       260\n",
      "    BARBUNYA       0.99      1.00      1.00       115\n",
      "      BOMBAY       0.94      0.94      0.94       339\n",
      "        CALI       0.92      0.93      0.92       713\n",
      "       HOROZ       0.97      0.96      0.96       348\n",
      "        SIRA       0.96      0.95      0.95       409\n",
      "    DERMASON       0.87      0.87      0.87       525\n",
      "\n",
      "    accuracy                           0.93      2709\n",
      "   macro avg       0.94      0.94      0.94      2709\n",
      "weighted avg       0.93      0.93      0.93      2709\n",
      "\n"
     ]
    }
   ],
   "source": [
    "print(confusion_matrix(y_test, y_pred))\n",
    "print(classification_report(y_test, y_pred, target_names=y.Class.unique()))"
   ]
  },
  {
   "cell_type": "code",
   "execution_count": 8,
   "id": "354b2799-ad19-4135-92e8-9d899a28fe83",
   "metadata": {},
   "outputs": [
    {
     "data": {
      "text/plain": [
       "0.929125138427464"
      ]
     },
     "execution_count": 8,
     "metadata": {},
     "output_type": "execute_result"
    }
   ],
   "source": [
    "metrics.accuracy_score(y_test, y_pred)"
   ]
  }
 ],
 "metadata": {
  "kernelspec": {
   "display_name": "Python 3 (ipykernel)",
   "language": "python",
   "name": "python3"
  },
  "language_info": {
   "codemirror_mode": {
    "name": "ipython",
    "version": 3
   },
   "file_extension": ".py",
   "mimetype": "text/x-python",
   "name": "python",
   "nbconvert_exporter": "python",
   "pygments_lexer": "ipython3",
   "version": "3.9.7"
  }
 },
 "nbformat": 4,
 "nbformat_minor": 5
}
