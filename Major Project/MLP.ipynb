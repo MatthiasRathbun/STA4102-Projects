{
 "cells": [
  {
   "cell_type": "markdown",
   "id": "a68b7c7e-6e2a-4ff2-a7b8-8767dea4dd2c",
   "metadata": {},
   "source": [
    "# MLP"
   ]
  },
  {
   "cell_type": "code",
   "execution_count": 1,
   "id": "7ec13d01-6074-4fbd-8cef-d13a9b3a7544",
   "metadata": {},
   "outputs": [],
   "source": [
    "import pandas as pd\n",
    "import numpy as np\n",
    "from sklearn import metrics\n",
    "from sklearn.preprocessing import StandardScaler\n",
    "from sklearn.preprocessing import PowerTransformer\n",
    "from sklearn.model_selection import train_test_split\n",
    "from sklearn.neural_network import MLPClassifier\n",
    "from sklearn.metrics import classification_report, confusion_matrix"
   ]
  },
  {
   "cell_type": "code",
   "execution_count": 2,
   "id": "5c21ed47-6bfd-4921-8e40-cea9ae5e0235",
   "metadata": {},
   "outputs": [],
   "source": [
    "df = pd.read_excel(\"Dry_Bean_Dataset.xlsx\")\n",
    "df = df.drop_duplicates()\n",
    "X = df.iloc[:,:16]\n",
    "y = df.iloc[:,16:]\n",
    "y = y.reset_index().drop(columns = \"index\")\n",
    "scaler = StandardScaler()\n",
    "X = pd.DataFrame(scaler.fit_transform(X), columns = X.columns)\n",
    "pt = PowerTransformer(method = \"yeo-johnson\")\n",
    "X = pd.DataFrame(pt.fit_transform(X), columns = X.columns)\n",
    "X_train, X_test, y_train, y_test = train_test_split(X, y, test_size = 0.20, random_state = 101)"
   ]
  },
  {
   "cell_type": "code",
   "execution_count": 5,
   "id": "28db8501-6197-4eda-83ee-1397bd52c883",
   "metadata": {},
   "outputs": [
    {
     "name": "stdout",
     "output_type": "stream",
     "text": [
      "[[243   0   9   0   0   4   4]\n",
      " [  0 115   0   0   0   0   0]\n",
      " [ 13   0 319   0   1   2   4]\n",
      " [  0   0   0 667   1   8  37]\n",
      " [  0   0   5   3 337   0   3]\n",
      " [  2   0   0   9   0 389   9]\n",
      " [  0   0   4  50  14   7 450]]\n",
      "              precision    recall  f1-score   support\n",
      "\n",
      "       SEKER       0.94      0.93      0.94       260\n",
      "    BARBUNYA       1.00      1.00      1.00       115\n",
      "      BOMBAY       0.95      0.94      0.94       339\n",
      "        CALI       0.91      0.94      0.93       713\n",
      "       HOROZ       0.95      0.97      0.96       348\n",
      "        SIRA       0.95      0.95      0.95       409\n",
      "    DERMASON       0.89      0.86      0.87       525\n",
      "\n",
      "    accuracy                           0.93      2709\n",
      "   macro avg       0.94      0.94      0.94      2709\n",
      "weighted avg       0.93      0.93      0.93      2709\n",
      "\n"
     ]
    }
   ],
   "source": [
    "MLP = MLPClassifier(hidden_layer_sizes=(100,), random_state=101, early_stopping=True, verbose=0)\n",
    "MLP.fit(X_train, np.ravel(y_train))\n",
    "y_pred = MLP.predict(X_test)\n",
    "print(confusion_matrix(y_test, y_pred))\n",
    "print(classification_report(y_test, y_pred, target_names=y.Class.unique()))"
   ]
  },
  {
   "cell_type": "code",
   "execution_count": 6,
   "id": "201efacb-44c9-4691-9b71-c950c0db4c30",
   "metadata": {},
   "outputs": [
    {
     "data": {
      "text/plain": [
       "0.9302325581395349"
      ]
     },
     "execution_count": 6,
     "metadata": {},
     "output_type": "execute_result"
    }
   ],
   "source": [
    "metrics.accuracy_score(y_test, y_pred)"
   ]
  }
 ],
 "metadata": {
  "kernelspec": {
   "display_name": "Python 3 (ipykernel)",
   "language": "python",
   "name": "python3"
  },
  "language_info": {
   "codemirror_mode": {
    "name": "ipython",
    "version": 3
   },
   "file_extension": ".py",
   "mimetype": "text/x-python",
   "name": "python",
   "nbconvert_exporter": "python",
   "pygments_lexer": "ipython3",
   "version": "3.9.7"
  }
 },
 "nbformat": 4,
 "nbformat_minor": 5
}
